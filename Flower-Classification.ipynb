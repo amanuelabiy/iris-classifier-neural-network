{
 "cells": [
  {
   "cell_type": "code",
   "execution_count": 125,
   "id": "f0bffae2-38ae-4e55-aa66-b4d6a50b8f70",
   "metadata": {},
   "outputs": [],
   "source": [
    "import torch\n",
    "import torch.nn as nn\n",
    "import torch.nn.functional as F"
   ]
  },
  {
   "cell_type": "code",
   "execution_count": 126,
   "id": "f0b9e2dc-ccbe-4efc-b005-13722b8de96c",
   "metadata": {},
   "outputs": [],
   "source": [
    "# Create a Model Class that inherits nn.Module\n",
    "class Model(nn.Module):\n",
    "\n",
    "    def __init__(self, in_features=4, h1=8, h2=9, out_features=3):\n",
    "        super().__init__() # instantiate our nn.Module\n",
    "        self.fc1 = nn.Linear(in_features, h1)\n",
    "        self.fc2 = nn.Linear(h1, h2)\n",
    "        self.out = nn.Linear(h2, out_features)\n",
    "\n",
    "    def forward(self, x):\n",
    "        x = F.relu(self.fc1(x))\n",
    "        x = F.relu(self.fc2(x))\n",
    "        x = self.out(x)\n",
    "\n",
    "        return x"
   ]
  },
  {
   "cell_type": "code",
   "execution_count": 127,
   "id": "7ce41f15-11fb-47c1-b111-6833cd54c3a5",
   "metadata": {},
   "outputs": [],
   "source": [
    "# Pick a manual seed for randomization\n",
    "torch.manual_seed(32)\n",
    "# Create an instance of model\n",
    "model = Model()"
   ]
  },
  {
   "cell_type": "code",
   "execution_count": 128,
   "id": "4cbeb5f0-4130-4092-80d3-f1d3ee7e4a1c",
   "metadata": {},
   "outputs": [],
   "source": [
    "import pandas as pd\n",
    "import matplotlib.pyplot as plt\n",
    "%matplotlib inline"
   ]
  },
  {
   "cell_type": "code",
   "execution_count": 129,
   "id": "70c81221-e852-4743-b970-2cedfd53a6c9",
   "metadata": {},
   "outputs": [],
   "source": [
    "url = 'https://gist.githubusercontent.com/curran/a08a1080b88344b0c8a7/raw/0e7a9b0a5d22642a06d3d5b9bcbad9890c8ee534/iris.csv'\n",
    "df = pd.read_csv(url)"
   ]
  },
  {
   "cell_type": "code",
   "execution_count": 130,
   "id": "fc749ae2-f66b-4b03-bb80-88aba5bfdf3b",
   "metadata": {},
   "outputs": [
    {
     "data": {
      "text/html": [
       "<div>\n",
       "<style scoped>\n",
       "    .dataframe tbody tr th:only-of-type {\n",
       "        vertical-align: middle;\n",
       "    }\n",
       "\n",
       "    .dataframe tbody tr th {\n",
       "        vertical-align: top;\n",
       "    }\n",
       "\n",
       "    .dataframe thead th {\n",
       "        text-align: right;\n",
       "    }\n",
       "</style>\n",
       "<table border=\"1\" class=\"dataframe\">\n",
       "  <thead>\n",
       "    <tr style=\"text-align: right;\">\n",
       "      <th></th>\n",
       "      <th>sepal_length</th>\n",
       "      <th>sepal_width</th>\n",
       "      <th>petal_length</th>\n",
       "      <th>petal_width</th>\n",
       "      <th>species</th>\n",
       "    </tr>\n",
       "  </thead>\n",
       "  <tbody>\n",
       "    <tr>\n",
       "      <th>145</th>\n",
       "      <td>6.7</td>\n",
       "      <td>3.0</td>\n",
       "      <td>5.2</td>\n",
       "      <td>2.3</td>\n",
       "      <td>virginica</td>\n",
       "    </tr>\n",
       "    <tr>\n",
       "      <th>146</th>\n",
       "      <td>6.3</td>\n",
       "      <td>2.5</td>\n",
       "      <td>5.0</td>\n",
       "      <td>1.9</td>\n",
       "      <td>virginica</td>\n",
       "    </tr>\n",
       "    <tr>\n",
       "      <th>147</th>\n",
       "      <td>6.5</td>\n",
       "      <td>3.0</td>\n",
       "      <td>5.2</td>\n",
       "      <td>2.0</td>\n",
       "      <td>virginica</td>\n",
       "    </tr>\n",
       "    <tr>\n",
       "      <th>148</th>\n",
       "      <td>6.2</td>\n",
       "      <td>3.4</td>\n",
       "      <td>5.4</td>\n",
       "      <td>2.3</td>\n",
       "      <td>virginica</td>\n",
       "    </tr>\n",
       "    <tr>\n",
       "      <th>149</th>\n",
       "      <td>5.9</td>\n",
       "      <td>3.0</td>\n",
       "      <td>5.1</td>\n",
       "      <td>1.8</td>\n",
       "      <td>virginica</td>\n",
       "    </tr>\n",
       "  </tbody>\n",
       "</table>\n",
       "</div>"
      ],
      "text/plain": [
       "     sepal_length  sepal_width  petal_length  petal_width    species\n",
       "145           6.7          3.0           5.2          2.3  virginica\n",
       "146           6.3          2.5           5.0          1.9  virginica\n",
       "147           6.5          3.0           5.2          2.0  virginica\n",
       "148           6.2          3.4           5.4          2.3  virginica\n",
       "149           5.9          3.0           5.1          1.8  virginica"
      ]
     },
     "execution_count": 130,
     "metadata": {},
     "output_type": "execute_result"
    }
   ],
   "source": [
    "df.tail()"
   ]
  },
  {
   "cell_type": "code",
   "execution_count": 145,
   "id": "ec3e5b95-0c30-4ebd-8029-b0f88c5b9fbe",
   "metadata": {},
   "outputs": [],
   "source": [
    "df['species'] = df['species'].replace({\n",
    "    'setosa': 0.0,\n",
    "    'versicolor': 1.0,\n",
    "    'virginica': 2.0\n",
    "})"
   ]
  },
  {
   "cell_type": "code",
   "execution_count": 132,
   "id": "c9afcdfd-510e-4ac9-a4b8-1e71e06465d4",
   "metadata": {},
   "outputs": [],
   "source": [
    "# Train Test Split! Set X, y\n",
    "X = df.drop('species', axis=1)\n",
    "y = df ['species']"
   ]
  },
  {
   "cell_type": "code",
   "execution_count": 133,
   "id": "2c29a71a-a028-422f-92d1-d6a8b1a749ac",
   "metadata": {},
   "outputs": [],
   "source": [
    "# Convert these to numpy arrays\n",
    "\n",
    "X = X.values\n",
    "y = y.values"
   ]
  },
  {
   "cell_type": "code",
   "execution_count": 134,
   "id": "919f3896-050d-4684-b671-0f8429c0e900",
   "metadata": {},
   "outputs": [],
   "source": [
    "from sklearn.model_selection import train_test_split"
   ]
  },
  {
   "cell_type": "code",
   "execution_count": 135,
   "id": "2f88b96a-355f-4f40-ba40-b6bd2a27ed55",
   "metadata": {},
   "outputs": [],
   "source": [
    "# Train Test Split\n",
    "X_train, X_test, y_train, y_test = train_test_split(X, y, test_size=0.2, random_state=32)"
   ]
  },
  {
   "cell_type": "code",
   "execution_count": 136,
   "id": "87420dd8-0ad5-4bf3-be75-adb76043176b",
   "metadata": {},
   "outputs": [],
   "source": [
    "# Convert X features to float tensors\n",
    "X_train = torch.FloatTensor(X_train)\n",
    "X_test = torch.FloatTensor(X_test)"
   ]
  },
  {
   "cell_type": "code",
   "execution_count": 137,
   "id": "878c2748-6ef6-4ce6-915c-9ee5a7292a3c",
   "metadata": {},
   "outputs": [],
   "source": [
    "# Convert y labels to tensors long\n",
    "y_train = torch.LongTensor(y_train)\n",
    "y_test = torch.LongTensor(y_test)"
   ]
  },
  {
   "cell_type": "code",
   "execution_count": 138,
   "id": "7564d313-981a-497f-8e74-99b8276e3200",
   "metadata": {},
   "outputs": [],
   "source": [
    "criterion = nn.CrossEntropyLoss()\n",
    "optimizer = torch.optim.Adam(model.parameters(), lr=0.01)"
   ]
  },
  {
   "cell_type": "code",
   "execution_count": 139,
   "id": "59aab39f-bcda-4307-9842-6b9c24c514c9",
   "metadata": {},
   "outputs": [
    {
     "name": "stdout",
     "output_type": "stream",
     "text": [
      "Epoch: 0 and loss: 1.169895887374878\n",
      "Epoch: 10 and loss: 0.9578844308853149\n",
      "Epoch: 20 and loss: 0.7988812327384949\n",
      "Epoch: 30 and loss: 0.6349534392356873\n",
      "Epoch: 40 and loss: 0.44043004512786865\n",
      "Epoch: 50 and loss: 0.291716992855072\n",
      "Epoch: 60 and loss: 0.1782904416322708\n",
      "Epoch: 70 and loss: 0.11587586998939514\n",
      "Epoch: 80 and loss: 0.08928152173757553\n",
      "Epoch: 90 and loss: 0.07743765413761139\n"
     ]
    }
   ],
   "source": [
    "# Train the model\n",
    "epochs = 100\n",
    "losses = []\n",
    "\n",
    "for i in range(epochs):\n",
    "    # Forward Propagation\n",
    "    y_pred = model.forward(X_train)\n",
    "\n",
    "    # Measure the loss/error\n",
    "    loss = criterion(y_pred, y_train)\n",
    "\n",
    "    losses.append(loss.detach().numpy())\n",
    "\n",
    "    if i % 10 == 0:\n",
    "        print(f'Epoch: {i} and loss: {loss}')\n",
    "\n",
    "    # Back propagation\n",
    "    optimizer.zero_grad()\n",
    "    loss.backward()\n",
    "    optimizer.step()\n",
    "    \n",
    "    "
   ]
  },
  {
   "cell_type": "code",
   "execution_count": 140,
   "id": "f6ad013c-323c-416c-98b7-f5a9d071e4db",
   "metadata": {},
   "outputs": [
    {
     "data": {
      "text/plain": [
       "Text(0.5, 0, 'Epoch')"
      ]
     },
     "execution_count": 140,
     "metadata": {},
     "output_type": "execute_result"
    },
    {
     "data": {
      "image/png": "[encoded data removed]",
      "text/plain": [
       "<Figure size 640x480 with 1 Axes>"
      ]
     },
     "metadata": {},
     "output_type": "display_data"
    }
   ],
   "source": [
    "# Graph loss/error\n",
    "\n",
    "plt.plot(range(epochs), losses)\n",
    "plt.ylabel('loss/error')\n",
    "plt.xlabel('Epoch')"
   ]
  },
  {
   "cell_type": "code",
   "execution_count": 141,
   "id": "cd21c630-6937-447a-993e-e1b7c7ebc163",
   "metadata": {},
   "outputs": [],
   "source": [
    "# Evaluate the Model\n",
    "\n",
    "with torch.no_grad(): # No back propagation\n",
    "    y_eval = model.forward(X_test) \n",
    "    loss = criterion(y_eval, y_test)"
   ]
  },
  {
   "cell_type": "code",
   "execution_count": 142,
   "id": "2e471e89-850d-44a4-92e0-2ea659fa7e13",
   "metadata": {},
   "outputs": [
    {
     "data": {
      "text/plain": [
       "tensor(0.0539)"
      ]
     },
     "execution_count": 142,
     "metadata": {},
     "output_type": "execute_result"
    }
   ],
   "source": [
    "loss"
   ]
  },
  {
   "cell_type": "code",
   "execution_count": 143,
   "id": "437d0291-128a-483a-b8ee-8d5559a98461",
   "metadata": {},
   "outputs": [
    {
     "name": "stdout",
     "output_type": "stream",
     "text": [
      "1.) tensor([-3.3580,  3.9452,  0.3616]) \t 1\n",
      "2.) tensor([  7.5862,   1.1113, -11.3861]) \t 0\n",
      "3.) tensor([  6.6288,   1.5092, -10.4603]) \t 0\n",
      "4.) tensor([-3.3304,  4.2647,  0.0569]) \t 1\n",
      "5.) tensor([-7.3705,  2.8135,  5.1481]) \t 2\n",
      "6.) tensor([-7.3749,  3.9061,  4.2781]) \t 2\n",
      "7.) tensor([  6.2304,   1.6527, -10.0543]) \t 0\n",
      "8.) tensor([  6.8783,   1.4056, -10.7016]) \t 0\n",
      "9.) tensor([-2.6728,  4.3138, -0.6444]) \t 1\n",
      "10.) tensor([  7.2201,   1.3890, -11.1494]) \t 0\n",
      "11.) tensor([-3.8269,  4.4110,  0.5165]) \t 1\n",
      "12.) tensor([-8.6886,  1.9990,  6.9012]) \t 2\n",
      "13.) tensor([-2.0605,  3.8275, -0.7672]) \t 1\n",
      "14.) tensor([-1.0676,  4.3809, -2.2975]) \t 1\n",
      "15.) tensor([-7.5000,  2.6230,  5.3318]) \t 2\n",
      "16.) tensor([-8.6214,  1.5491,  7.1280]) \t 2\n",
      "17.) tensor([-3.7724,  3.6503,  0.9422]) \t 1\n",
      "18.) tensor([-6.7624,  2.7791,  4.5289]) \t 2\n",
      "19.) tensor([-1.6978,  4.2047, -1.4772]) \t 1\n",
      "20.) tensor([  7.8104,   1.3824, -11.9435]) \t 0\n",
      "21.) tensor([  6.9175,   1.5954, -10.9322]) \t 0\n",
      "22.) tensor([-9.4323,  2.7058,  7.2346]) \t 2\n",
      "23.) tensor([-5.7703,  3.0159,  3.3488]) \t 2\n",
      "24.) tensor([  6.7894,   1.3532, -10.5322]) \t 0\n",
      "25.) tensor([  6.8259,   1.0698, -10.3167]) \t 0\n",
      "26.) tensor([-1.4315,  4.3274, -1.9045]) \t 1\n",
      "27.) tensor([  7.9001,   1.2810, -11.9702]) \t 0\n",
      "28.) tensor([-9.8161,  1.7077,  8.1757]) \t 2\n",
      "29.) tensor([  7.4112,   1.3948, -11.4139]) \t 0\n",
      "30.) tensor([  7.2116,   1.4010, -11.1491]) \t 0\n",
      "Correct: 30\n"
     ]
    }
   ],
   "source": [
    "correct = 0\n",
    "with torch.no_grad():\n",
    "    for i, data in enumerate(X_test):\n",
    "        y_val = model.forward(data)\n",
    "\n",
    "        print(f'{i+1}.) {str(y_val)} \\t {y_test[i]}')\n",
    "\n",
    "        # Correct or not \n",
    "\n",
    "        if y_val.argmax().item() == y_test[i]:\n",
    "            correct += 1\n",
    "print(f'Correct: {correct}')"
   ]
  },
  {
   "cell_type": "code",
   "execution_count": 144,
   "id": "097b3711-7e72-4287-a4e4-acc2f0f81550",
   "metadata": {},
   "outputs": [
    {
     "name": "stdout",
     "output_type": "stream",
     "text": [
      "tensor([-8.7797,  2.0760,  6.9604])\n"
     ]
    }
   ],
   "source": [
    "test_iris_data = torch.tensor([6.7, 3.0, 5.2, 2.3])\n",
    "\n",
    "with torch.no_grad():\n",
    "    print(model(test_iris_data))"
   ]
  }
 ],
 "metadata": {
  "kernelspec": {
   "display_name": "Python (torch-gpu)",
   "language": "python",
   "name": "torch-gpu"
  },
  "language_info": {
   "codemirror_mode": {
    "name": "ipython",
    "version": 3
   },
   "file_extension": ".py",
   "mimetype": "text/x-python",
   "name": "python",
   "nbconvert_exporter": "python",
   "pygments_lexer": "ipython3",
   "version": "3.10.18"
  }
 },
 "nbformat": 4,
 "nbformat_minor": 5
}
